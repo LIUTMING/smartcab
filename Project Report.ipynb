{
 "cells": [
  {
   "cell_type": "markdown",
   "metadata": {},
   "source": [
    "## Basic driving agent\n",
    "The first task involved implementing an agent with completely random behavior, in order to get accustomed to the interface of the simulator, and get a baseline to improve upon.\n",
    "### Performance\n",
    "As expected, randomly choosing an action results in poor performance: the agent doesn't obey traffic rules, nor does it reach its destination in time. (At least most of the time.)"
   ]
  },
  {
   "cell_type": "markdown",
   "metadata": {},
   "source": [
    "## Choosing a set of states\n",
    "In order to create an agent which can behave in a more intelligent manner, a set of states must be identified. Ideally, these states should contain all of the necessary information about the world that is needed for choosing the correct action.\n",
    "I took a simple approach, and defined the states as unique permutations of the necessary input values, in the following order:\n",
    "1. The state of the traffic light (either 'green' or 'red')\n",
    "2. The direction the car in the oncoming lane is headed\\*\n",
    "3. The direction the car in the lane to the right is headed\\*\n",
    "4. The direction the car in the lane to the left is headed\\*\n",
    "5. The direction recommended by the route planner\n",
    "\n",
    "\\* (if there is no car there, the value is None)\n",
    "\n",
    "So, for example, one of the states my agent can experience is ('green', None, None, None, 'left'). This results in a few superfluous states (e.g. because if the traffic light signals red, the car on the oncoming lane will always stop; the state ('red', 'forward', None, None, 'left') will never be visited in practice)."
   ]
  },
  {
   "cell_type": "code",
   "execution_count": null,
   "metadata": {
    "collapsed": true
   },
   "outputs": [],
   "source": []
  }
 ],
 "metadata": {
  "kernelspec": {
   "display_name": "Python 2",
   "language": "python",
   "name": "python2"
  },
  "language_info": {
   "codemirror_mode": {
    "name": "ipython",
    "version": 2
   },
   "file_extension": ".py",
   "mimetype": "text/x-python",
   "name": "python",
   "nbconvert_exporter": "python",
   "pygments_lexer": "ipython2",
   "version": "2.7.6"
  }
 },
 "nbformat": 4,
 "nbformat_minor": 0
}
